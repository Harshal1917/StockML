{
  "cells": [
    {
      "cell_type": "markdown",
      "metadata": {
        "id": "introduction"
      },
      "source": [
        "# Qlib Stock Analysis Implementation\n",
        "\n",
        "This notebook demonstrates how to use Microsoft's Qlib library for quantitative investment analysis.\n",
        "\n",
        "First, we'll install the required packages and set up our environment."
      ]
    },
    {
      "cell_type": "code",
      "execution_count": null,
      "metadata": {
        "id": "install_packages"
      },
      "outputs": [],
      "source": [
        "!pip install numpy pandas scikit-learn torch\n",
        "!pip install --upgrade pip setuptools wheel\n",
        "!pip install pyqlib"
      ]
    },
    {
      "cell_type": "code",
      "execution_count": null,
      "metadata": {
        "id": "import_libraries"
      },
      "outputs": [],
      "source": [
        "import qlib\n",
        "from qlib.config import REG_CN\n",
        "from qlib.data import D\n",
        "from qlib.utils import init_instance_by_config\n",
        "import pandas as pd\n",
        "import numpy as np"
      ]
    },
    {
      "cell_type": "markdown",
      "metadata": {
        "id": "data_setup"
      },
      "source": [
        "## Download and Initialize Data\n",
        "\n",
        "We'll download the China stock market data and initialize Qlib."
      ]
    },
    {
      "cell_type": "code",
      "execution_count": null,
      "metadata": {
        "id": "download_data"
      },
      "outputs": [],
      "source": [
        "# Download China stock market data\n",
        "!python -m qlib.run.get_data qlib_data --target_dir ~/.qlib/qlib_data/cn_data --region cn\n",
        "\n",
        "# Initialize Qlib with China stock market data\n",
        "qlib.init(provider_uri='~/.qlib/qlib_data/cn_data', region=REG_CN)"
      ]
    },
    {
      "cell_type": "markdown",
      "metadata": {
        "id": "data_analysis"
      },
      "source": [
        "## Basic Data Analysis\n",
        "\n",
        "Let's analyze some basic stock data using Qlib's features."
      ]
    },
    {
      "cell_type": "code",
      "execution_count": null,
      "metadata": {
        "id": "analyze_data"
      },
      "outputs": [],
      "source": [
        "def analyze_stock_data(stock_id=[\"SH.600000\"], start_time='2023-01-01', end_time='2023-12-31'):\n",
        "    \"\"\"Analyze basic stock data\"\"\"\n",
        "    # Define the features we want to analyze\n",
        "    fields = [\"$close\", \"$open\", \"$high\", \"$low\", \"$volume\"]\n",
        "    \n",
        "    # Get the features data\n",
        "    data = D.features(\n",
        "        instruments=stock_id,  # Pass as a list\n",
        "        fields=fields,\n",
        "        freq='day',\n",
        "        start_time=start_time,\n",
        "        end_time=end_time,\n",
        "        inst_processors=None  # Explicitly set to None to avoid the multiple values error\n",
        "    )\n",
        "    \n",
        "    # Convert to DataFrame for analysis - modified to handle list of instruments\n",
        "    df = data.loc[stock_id[0]].reset_index()  # Access first stock in the list\n",
        "    \n",
        "    # Calculate basic statistics\n",
        "    print(\"\\nBasic Statistics:\")\n",
        "    print(f\"Number of trading days: {len(df)}\")\n",
        "    \n",
        "    print(\"\\nPrice Summary:\")\n",
        "    print(df[[\"$close\", \"$open\", \"$high\", \"$low\"]].describe())\n",
        "    \n",
        "    print(\"\\nVolume Summary:\")\n",
        "    print(df[\"$volume\"].describe())\n",
        "    \n",
        "    # Calculate daily returns\n",
        "    df['daily_return'] = df['$close'].pct_change()\n",
        "    \n",
        "    print(\"\\nDaily Returns Summary:\")\n",
        "    print(df['daily_return'].describe())\n",
        "    \n",
        "    return df\n",
        "\n",
        "# Analyze a specific stock - pass the stock ID as a list with correct format\n",
        "df = analyze_stock_data(stock_id=[\"SH.600000\"])"
      ]
    },
    {
      "cell_type": "markdown",
      "metadata": {
        "id": "visualization"
      },
      "source": [
        "## Data Visualization\n",
        "\n",
        "Let's create some visualizations of our stock data."
      ]
    },
    {
      "cell_type": "code",
      "execution_count": null,
      "metadata": {
        "id": "plot_data"
      },
      "outputs": [],
      "source": [
        "import matplotlib.pyplot as plt\n",
        "\n",
        "def plot_stock_analysis(df):\n",
        "    # Create a figure with multiple subplots\n",
        "    fig, (ax1, ax2, ax3) = plt.subplots(3, 1, figsize=(15, 12))\n",
        "    \n",
        "    # Plot 1: Price Movement\n",
        "    ax1.plot(df.index, df['$close'], label='Close')\n",
        "    ax1.plot(df.index, df['$open'], label='Open')\n",
        "    ax1.set_title('Stock Price Movement')\n",
        "    ax1.set_xlabel('Date')\n",
        "    ax1.set_ylabel('Price')\n",
        "    ax1.legend()\n",
        "    \n",
        "    # Plot 2: Volume\n",
        "    ax2.bar(df.index, df['$volume'])\n",
        "    ax2.set_title('Trading Volume')\n",
        "    ax2.set_xlabel('Date')\n",
        "    ax2.set_ylabel('Volume')\n",
        "    \n",
        "    # Plot 3: Daily Returns\n",
        "    ax3.hist(df['daily_return'].dropna(), bins=50)\n",
        "    ax3.set_title('Distribution of Daily Returns')\n",
        "    ax3.set_xlabel('Daily Return')\n",
        "    ax3.set_ylabel('Frequency')\n",
        "    \n",
        "    plt.tight_layout()\n",
        "    plt.show()\n",
        "\n",
        "# Create visualizations\n",
        "plot_stock_analysis(df)"
      ]
    },
    {
      "cell_type": "markdown",
      "metadata": {
        "id": "advanced_analysis"
      },
      "source": [
        "## Advanced Analysis: Moving Averages and Technical Indicators"
      ]
    },
    {
      "cell_type": "code",
      "execution_count": null,
      "metadata": {
        "id": "technical_analysis"
      },
      "outputs": [],
      "source": [
        "def calculate_technical_indicators(df):\n",
        "    # Calculate moving averages\n",
        "    df['MA5'] = df['$close'].rolling(window=5).mean()\n",
        "    df['MA20'] = df['$close'].rolling(window=20).mean()\n",
        "    \n",
        "    # Calculate RSI\n",
        "    delta = df['$close'].diff()\n",
        "    gain = (delta.where(delta > 0, 0)).rolling(window=14).mean()\n",
        "    loss = (-delta.where(delta < 0, 0)).rolling(window=14).mean()\n",
        "    rs = gain / loss\n",
        "    df['RSI'] = 100 - (100 / (1 + rs))\n",
        "    \n",
        "    # Plot technical indicators\n",
        "    plt.figure(figsize=(15, 10))\n",
        "    \n",
        "    # Price and Moving Averages\n",
        "    plt.subplot(2, 1, 1)\n",
        "    plt.plot(df.index, df['$close'], label='Close Price')\n",
        "    plt.plot(df.index, df['MA5'], label='5-day MA')\n",
        "    plt.plot(df.index, df['MA20'], label='20-day MA')\n",
        "    plt.title('Price and Moving Averages')\n",
        "    plt.legend()\n",
        "    \n",
        "    # RSI\n",
        "    plt.subplot(2, 1, 2)\n",
        "    plt.plot(df.index, df['RSI'])\n",
        "    plt.axhline(y=70, color='r', linestyle='--')\n",
        "    plt.axhline(y=30, color='g', linestyle='--')\n",
        "    plt.title('Relative Strength Index (RSI)')\n",
        "    \n",
        "    plt.tight_layout()\n",
        "    plt.show()\n",
        "    \n",
        "    return df\n",
        "\n",
        "# Calculate and plot technical indicators\n",
        "df_with_indicators = calculate_technical_indicators(df)"
      ]
    }
  ],
  "metadata": {
    "colab": {
      "name": "Qlib_Stock_Analysis.ipynb",
      "private_outputs": true,
      "provenance": []
    },
    "kernelspec": {
      "display_name": "Python 3",
      "name": "python3"
    }
  },
  "nbformat": 4,
  "nbformat_minor": 0
}
